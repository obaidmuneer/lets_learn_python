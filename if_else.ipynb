{
 "cells": [
  {
   "attachments": {},
   "cell_type": "markdown",
   "metadata": {},
   "source": [
    "Python Conditions and If statements\n",
    "\n",
    "Python supports the usual logical conditions from mathematics:\n",
    "\n",
    "    Equals: a == b\n",
    "    Not Equals: a != b\n",
    "    Less than: a < b\n",
    "    Less than or equal to: a <= b\n",
    "    Greater than: a > b\n",
    "    Greater than or equal to: a >= b\n"
   ]
  },
  {
   "cell_type": "code",
   "execution_count": 4,
   "metadata": {},
   "outputs": [
    {
     "name": "stdout",
     "output_type": "stream",
     "text": [
      "num1 and num2 are equal\n"
     ]
    }
   ],
   "source": [
    "num1 = 2\n",
    "num2 = 2\n",
    "if (num1 > num2):\n",
    "    print('num1 is greater')\n",
    "elif (num1 == num2):\n",
    "    print('num1 and num2 are equal')\n",
    "else:\n",
    "    print('I don\\'t know whats going on anymore')\n"
   ]
  },
  {
   "attachments": {},
   "cell_type": "markdown",
   "metadata": {},
   "source": [
    "Short Hand If and If else"
   ]
  },
  {
   "cell_type": "code",
   "execution_count": 7,
   "metadata": {},
   "outputs": [
    {
     "name": "stdout",
     "output_type": "stream",
     "text": [
      "num1 and num2 are different\n",
      "num1 is smaller than num2\n"
     ]
    }
   ],
   "source": [
    "num1 = 2\n",
    "num2 = 3\n",
    "if num1 != num2: print('num1 and num2 are different')\n",
    "\n",
    "print('num1 is smaller than num2') if num1 < num2 else print('I don\\'nt know')"
   ]
  },
  {
   "attachments": {},
   "cell_type": "markdown",
   "metadata": {},
   "source": [
    "and, or , not, nested if"
   ]
  },
  {
   "cell_type": "code",
   "execution_count": 14,
   "metadata": {},
   "outputs": [
    {
     "name": "stdout",
     "output_type": "stream",
     "text": [
      "User login failed\n"
     ]
    }
   ],
   "source": [
    "email = 'obaidmuneer55@gmail.com'\n",
    "pwd = 2\n",
    "confPwd = 2\n",
    "\n",
    "# empty string is false\n",
    "\n",
    "if (email and (pwd == confPwd)):\n",
    "    print('User login successfully')\n",
    "else:\n",
    "    print('User login failed')\n"
   ]
  },
  {
   "cell_type": "code",
   "execution_count": 16,
   "metadata": {},
   "outputs": [
    {
     "name": "stdout",
     "output_type": "stream",
     "text": [
      "User found\n"
     ]
    }
   ],
   "source": [
    "email = ''\n",
    "username = 'obaidmuneer55'\n",
    "\n",
    "if (email or username):\n",
    "    print('User found')\n"
   ]
  },
  {
   "cell_type": "code",
   "execution_count": 21,
   "metadata": {},
   "outputs": [
    {
     "name": "stdout",
     "output_type": "stream",
     "text": [
      "Guest\n"
     ]
    }
   ],
   "source": [
    "isUser = False\n",
    "guestTimout = 1  # 1 means True and 0 means False\n",
    "\n",
    "if (not isUser):\n",
    "    print('Guest')\n",
    "    if (guestTimout):\n",
    "        pass\n"
   ]
  }
 ],
 "metadata": {
  "kernelspec": {
   "display_name": "Python 3",
   "language": "python",
   "name": "python3"
  },
  "language_info": {
   "codemirror_mode": {
    "name": "ipython",
    "version": 3
   },
   "file_extension": ".py",
   "mimetype": "text/x-python",
   "name": "python",
   "nbconvert_exporter": "python",
   "pygments_lexer": "ipython3",
   "version": "3.11.3"
  },
  "orig_nbformat": 4,
  "vscode": {
   "interpreter": {
    "hash": "e24be50fc5d34fa7feb3809ece269af1ed5229ce0bcfe582eb2a21849eda9341"
   }
  }
 },
 "nbformat": 4,
 "nbformat_minor": 2
}
