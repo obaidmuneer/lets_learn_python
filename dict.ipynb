{
 "cells": [
  {
   "attachments": {},
   "cell_type": "markdown",
   "metadata": {},
   "source": [
    "Dictionaries"
   ]
  },
  {
   "cell_type": "code",
   "execution_count": 9,
   "metadata": {},
   "outputs": [
    {
     "name": "stdout",
     "output_type": "stream",
     "text": [
      "{'brand': 'honda', 'model': 2019, 'color': ['red', 'green']}\n",
      "honda\n",
      "2019\n"
     ]
    }
   ],
   "source": [
    "car = {\n",
    "    'brand': 'honda',\n",
    "    'model': 2019,\n",
    "    'color': [\"red\", \"green\"]\n",
    "}\n",
    "print(car)\n",
    "print(car['brand'])\n",
    "print(car.get('model'))\n"
   ]
  },
  {
   "cell_type": "code",
   "execution_count": 10,
   "metadata": {},
   "outputs": [
    {
     "name": "stdout",
     "output_type": "stream",
     "text": [
      "{'name': 'obaid', 'age': 36, 'country': 'pakistan'}\n",
      "dict_keys(['name', 'age', 'country'])\n"
     ]
    }
   ],
   "source": [
    "person = dict(name=\"obaid\", age=36, country=\"pakistan\")\n",
    "print(person)\n",
    "print(person.keys())"
   ]
  },
  {
   "cell_type": "code",
   "execution_count": 15,
   "metadata": {},
   "outputs": [
    {
     "name": "stdout",
     "output_type": "stream",
     "text": [
      "{'name': 'obaid', 'age': 36, 'country': 'pakistan'}\n",
      "{'name': 'umair', 'age': 36, 'country': 'pakistan'}\n",
      "dict_values(['umair', 36, 'pakistan'])\n"
     ]
    }
   ],
   "source": [
    "person = {\n",
    "    \"name\": \"obaid\",\n",
    "    \"age\": 36,\n",
    "    \"country\": \"pakistan\"\n",
    "}\n",
    "print(person)\n",
    "person[\"name\"]=\"umair\"\n",
    "person.update()\n",
    "print(person)\n",
    "print(person.values())"
   ]
  },
  {
   "cell_type": "code",
   "execution_count": 17,
   "metadata": {},
   "outputs": [
    {
     "name": "stdout",
     "output_type": "stream",
     "text": [
      "dict_items([('name', 'obaid'), ('roll', 1234)])\n"
     ]
    }
   ],
   "source": [
    "student = {\n",
    "    \"name\": \"obaid\",\n",
    "    \"roll\": 1234,\n",
    "}\n",
    "print(student.items())\n"
   ]
  },
  {
   "cell_type": "code",
   "execution_count": 19,
   "metadata": {},
   "outputs": [
    {
     "name": "stdout",
     "output_type": "stream",
     "text": [
      "{'name': 'obaid', 'roll': 1234, 'school': 'testing school'}\n"
     ]
    }
   ],
   "source": [
    "#Add a new item to \n",
    "student = {\n",
    "    \"name\": \"obaid\",\n",
    "    \"roll\": 1234,\n",
    "}\n",
    "student[\"school\"] = \"testing school\"\n",
    "print(student)"
   ]
  }
 ],
 "metadata": {
  "kernelspec": {
   "display_name": "Python 3",
   "language": "python",
   "name": "python3"
  },
  "language_info": {
   "codemirror_mode": {
    "name": "ipython",
    "version": 3
   },
   "file_extension": ".py",
   "mimetype": "text/x-python",
   "name": "python",
   "nbconvert_exporter": "python",
   "pygments_lexer": "ipython3",
   "version": "3.11.3"
  },
  "orig_nbformat": 4,
  "vscode": {
   "interpreter": {
    "hash": "e24be50fc5d34fa7feb3809ece269af1ed5229ce0bcfe582eb2a21849eda9341"
   }
  }
 },
 "nbformat": 4,
 "nbformat_minor": 2
}
