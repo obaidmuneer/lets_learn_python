{
 "cells": [
  {
   "attachments": {},
   "cell_type": "markdown",
   "metadata": {},
   "source": [
    "Dictionaries"
   ]
  },
  {
   "cell_type": "code",
   "execution_count": 9,
   "metadata": {},
   "outputs": [
    {
     "name": "stdout",
     "output_type": "stream",
     "text": [
      "{'brand': 'honda', 'model': 2019, 'color': ['red', 'green']}\n",
      "honda\n",
      "2019\n"
     ]
    }
   ],
   "source": [
    "car = {\n",
    "    'brand': 'honda',\n",
    "    'model': 2019,\n",
    "    'color': [\"red\", \"green\"]\n",
    "}\n",
    "print(car)\n",
    "print(car['brand'])\n",
    "print(car.get('model'))\n"
   ]
  },
  {
   "cell_type": "code",
   "execution_count": 10,
   "metadata": {},
   "outputs": [
    {
     "name": "stdout",
     "output_type": "stream",
     "text": [
      "{'name': 'obaid', 'age': 36, 'country': 'pakistan'}\n",
      "dict_keys(['name', 'age', 'country'])\n"
     ]
    }
   ],
   "source": [
    "person = dict(name=\"obaid\", age=36, country=\"pakistan\")\n",
    "print(person)\n",
    "print(person.keys())"
   ]
  },
  {
   "cell_type": "code",
   "execution_count": 1,
   "metadata": {},
   "outputs": [
    {
     "name": "stdout",
     "output_type": "stream",
     "text": [
      "{'name': 'obaid', 'age': 36, 'country': 'pakistan'}\n",
      "{'name': 'umair', 'age': 35, 'country': 'pakistan'}\n",
      "dict_values(['umair', 35, 'pakistan'])\n"
     ]
    }
   ],
   "source": [
    "person = {\n",
    "    \"name\": \"obaid\",\n",
    "    \"age\": 36,\n",
    "    \"country\": \"pakistan\"\n",
    "}\n",
    "print(person)\n",
    "person[\"name\"] = \"umair\"\n",
    "person.update({\"age\": 35})\n",
    "print(person)\n",
    "print(person.values())\n"
   ]
  },
  {
   "cell_type": "code",
   "execution_count": 17,
   "metadata": {},
   "outputs": [
    {
     "name": "stdout",
     "output_type": "stream",
     "text": [
      "dict_items([('name', 'obaid'), ('roll', 1234)])\n"
     ]
    }
   ],
   "source": [
    "student = {\n",
    "    \"name\": \"obaid\",\n",
    "    \"roll\": 1234,\n",
    "}\n",
    "print(student.items())\n"
   ]
  },
  {
   "cell_type": "code",
   "execution_count": 19,
   "metadata": {},
   "outputs": [
    {
     "name": "stdout",
     "output_type": "stream",
     "text": [
      "{'name': 'obaid', 'roll': 1234, 'school': 'testing school'}\n"
     ]
    }
   ],
   "source": [
    "#Add a new item to \n",
    "student = {\n",
    "    \"name\": \"obaid\",\n",
    "    \"roll\": 1234,\n",
    "}\n",
    "student[\"school\"] = \"testing school\"\n",
    "print(student)"
   ]
  },
  {
   "attachments": {},
   "cell_type": "markdown",
   "metadata": {},
   "source": [
    " Removing Items\n",
    "\n",
    " The pop() method removes the item with the specified key name\n",
    "\n",
    " The popitem() method removes the last inserted item (in versions before 3.7, a random item is removed instead)"
   ]
  },
  {
   "cell_type": "code",
   "execution_count": 3,
   "metadata": {},
   "outputs": [
    {
     "name": "stdout",
     "output_type": "stream",
     "text": [
      "Ford\n",
      "{'model': 'Mustang', 'year': 1964}\n"
     ]
    }
   ],
   "source": [
    "car = {\n",
    "    \"brand\": \"Ford\",\n",
    "    \"model\": \"Mustang\",\n",
    "    \"year\": 1964\n",
    "}\n",
    "print(car.pop('brand'))  # Ford\n",
    "print(car)  # {'model': 'Mustang', 'year': 1964}"
   ]
  },
  {
   "cell_type": "code",
   "execution_count": 5,
   "metadata": {},
   "outputs": [
    {
     "name": "stdout",
     "output_type": "stream",
     "text": [
      "<class 'tuple'>\n",
      "{'brand': 'Ford', 'model': 'Mustang'}\n"
     ]
    }
   ],
   "source": [
    "car = {\n",
    "    \"brand\": \"Ford\",\n",
    "    \"model\": \"Mustang\",\n",
    "    \"year\": 1964\n",
    "}\n",
    "print(car.popitem())  # ('year', 1964) < tuple\n",
    "print(car)  # {'brand': 'Ford', 'model': 'Mustang'}\n"
   ]
  },
  {
   "cell_type": "code",
   "execution_count": 21,
   "metadata": {},
   "outputs": [
    {
     "name": "stdout",
     "output_type": "stream",
     "text": [
      "{'model': 'Mustang', 'year': 1964}\n",
      "{}\n"
     ]
    },
    {
     "ename": "NameError",
     "evalue": "name 'car' is not defined",
     "output_type": "error",
     "traceback": [
      "\u001b[1;31m---------------------------------------------------------------------------\u001b[0m",
      "\u001b[1;31mNameError\u001b[0m                                 Traceback (most recent call last)",
      "Cell \u001b[1;32mIn[21], line 12\u001b[0m\n\u001b[0;32m     10\u001b[0m \u001b[39mprint\u001b[39m(car)\n\u001b[0;32m     11\u001b[0m \u001b[39mdel\u001b[39;00m car\n\u001b[1;32m---> 12\u001b[0m \u001b[39mprint\u001b[39m(car)\n",
      "\u001b[1;31mNameError\u001b[0m: name 'car' is not defined"
     ]
    }
   ],
   "source": [
    "car = {\n",
    "    \"brand\": \"Ford\",\n",
    "    \"model\": \"Mustang\",\n",
    "    \"year\": 1964\n",
    "}\n",
    "\n",
    "del car['brand']\n",
    "print(car)  # {'model': 'Mustang', 'year': 1964}\n",
    "car.clear()\n",
    "print(car)  # {}\n",
    "del car\n",
    "print(car)\n"
   ]
  },
  {
   "attachments": {},
   "cell_type": "markdown",
   "metadata": {},
   "source": [
    "Nested Dictionary"
   ]
  },
  {
   "cell_type": "code",
   "execution_count": 15,
   "metadata": {},
   "outputs": [
    {
     "name": "stdout",
     "output_type": "stream",
     "text": [
      "Inzimam Malik\n",
      "{'name': 'obaid', 'roll': 123}\n"
     ]
    }
   ],
   "source": [
    "school = {\n",
    "    \"class1\": {\n",
    "        \"students\": [\n",
    "            {\n",
    "                \"name\": \"obaid\",\n",
    "                \"roll\": 123\n",
    "\n",
    "            },\n",
    "            {\n",
    "                \"name\": \"umair\",\n",
    "                \"roll\": 456\n",
    "            },\n",
    "            {\n",
    "                \"name\": \"muneer\",\n",
    "                \"roll\": 789\n",
    "            }\n",
    "        ],\n",
    "        \"teacher\": \"Inzimam Malik\"\n",
    "    },\n",
    "    \"class2\": {\n",
    "        \"students\": [\n",
    "            {\n",
    "                \"name\": \"hussain\",\n",
    "                \"roll\": 147\n",
    "\n",
    "            },\n",
    "            {\n",
    "                \"name\": \"fazal\",\n",
    "                \"roll\": 258\n",
    "            },\n",
    "            {\n",
    "                \"name\": \"shoaib\",\n",
    "                \"roll\": 369\n",
    "            }\n",
    "        ],\n",
    "        \"teacher\": \"Obaid Muneer\"\n",
    "    }\n",
    "}\n",
    "\n",
    "print(school[\"class1\"]['teacher'])  # Inzimam Malik\n",
    "print(school[\"class1\"]['students'][0])  # {'name': 'obaid', 'roll': 123}\n"
   ]
  },
  {
   "attachments": {},
   "cell_type": "markdown",
   "metadata": {},
   "source": [
    "copy dictionary"
   ]
  },
  {
   "cell_type": "code",
   "execution_count": 19,
   "metadata": {},
   "outputs": [
    {
     "name": "stdout",
     "output_type": "stream",
     "text": [
      "{'brand': 'Ford', 'model': 'Mustang', 'year': 1964}\n",
      "{'brand': 'Ford', 'model': 'Mustang', 'year': 1964}\n"
     ]
    }
   ],
   "source": [
    "car = {\n",
    "    \"brand\": \"Ford\",\n",
    "    \"model\": \"Mustang\",\n",
    "    \"year\": 1964\n",
    "}\n",
    "car2 = car.copy()\n",
    "car3 = dict(car)\n",
    "print(car2, car3, sep='\\n')\n"
   ]
  },
  {
   "attachments": {},
   "cell_type": "markdown",
   "metadata": {},
   "source": [
    "Loop Through a Dictionary"
   ]
  },
  {
   "cell_type": "code",
   "execution_count": 24,
   "metadata": {},
   "outputs": [
    {
     "name": "stdout",
     "output_type": "stream",
     "text": [
      "brand Ford\n",
      "model Mustang\n",
      "year 1964\n"
     ]
    }
   ],
   "source": [
    "car = {\n",
    "    \"brand\": \"Ford\",\n",
    "    \"model\": \"Mustang\",\n",
    "    \"year\": 1964\n",
    "}\n",
    "for k in car:\n",
    "    print(k, car[k])  # in loop will return keys\n"
   ]
  },
  {
   "cell_type": "code",
   "execution_count": 27,
   "metadata": {},
   "outputs": [
    {
     "name": "stdout",
     "output_type": "stream",
     "text": [
      "brand\n",
      "model\n",
      "year\n",
      "Ford\n",
      "Mustang\n",
      "1964\n"
     ]
    }
   ],
   "source": [
    "car = {\n",
    "    \"brand\": \"Ford\",\n",
    "    \"model\": \"Mustang\",\n",
    "    \"year\": 1964\n",
    "}\n",
    "for k in car.keys():\n",
    "    print(k)\n",
    "\n",
    "for v in car.values():\n",
    "    print(v)\n"
   ]
  },
  {
   "cell_type": "code",
   "execution_count": 29,
   "metadata": {},
   "outputs": [
    {
     "name": "stdout",
     "output_type": "stream",
     "text": [
      "brand Ford\n",
      "model Mustang\n",
      "year 1964\n"
     ]
    }
   ],
   "source": [
    "car = {\n",
    "    \"brand\": \"Ford\",\n",
    "    \"model\": \"Mustang\",\n",
    "    \"year\": 1964\n",
    "}\n",
    "for k, v in car.items():\n",
    "    print(k, v)\n"
   ]
  }
 ],
 "metadata": {
  "kernelspec": {
   "display_name": "Python 3",
   "language": "python",
   "name": "python3"
  },
  "language_info": {
   "codemirror_mode": {
    "name": "ipython",
    "version": 3
   },
   "file_extension": ".py",
   "mimetype": "text/x-python",
   "name": "python",
   "nbconvert_exporter": "python",
   "pygments_lexer": "ipython3",
   "version": "3.11.3"
  },
  "orig_nbformat": 4,
  "vscode": {
   "interpreter": {
    "hash": "e24be50fc5d34fa7feb3809ece269af1ed5229ce0bcfe582eb2a21849eda9341"
   }
  }
 },
 "nbformat": 4,
 "nbformat_minor": 2
}
