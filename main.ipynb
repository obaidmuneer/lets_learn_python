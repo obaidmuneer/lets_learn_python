{
 "cells": [
  {
   "cell_type": "code",
   "execution_count": 1,
   "metadata": {},
   "outputs": [
    {
     "name": "stdout",
     "output_type": "stream",
     "text": [
      "Hello Obaid\n"
     ]
    }
   ],
   "source": [
    "print(\"Hello Obaid\")"
   ]
  },
  {
   "cell_type": "code",
   "execution_count": 10,
   "metadata": {},
   "outputs": [
    {
     "name": "stdout",
     "output_type": "stream",
     "text": [
      "Hi Obaid\n"
     ]
    }
   ],
   "source": [
    "name = 'Obaid'\n",
    "print(\"Hi \"+ name)"
   ]
  },
  {
   "cell_type": "code",
   "execution_count": 5,
   "metadata": {},
   "outputs": [
    {
     "name": "stdout",
     "output_type": "stream",
     "text": [
      "Welcome Obaid\n"
     ]
    }
   ],
   "source": [
    "def welcomeUser(n):\n",
    "    global name\n",
    "    name = n\n",
    "    print(f\"\"\"Welcome {name}\"\"\")\n",
    "\n",
    "\n",
    "welcomeUser('Obaid')\n"
   ]
  },
  {
   "cell_type": "code",
   "execution_count": 10,
   "metadata": {},
   "outputs": [
    {
     "name": "stdout",
     "output_type": "stream",
     "text": [
      "1 2.5 1j\n",
      "<class 'int'> <class 'float'> <class 'complex'>\n",
      "1.0\n",
      "2\n",
      "(2.5+0j)\n"
     ]
    }
   ],
   "source": [
    "n1 = 1\n",
    "n2 = 2.5\n",
    "n3 = 1j\n",
    "print(n1, n2, n3)\n",
    "print(type(n1), type(n2), type(n3))\n",
    "print(float(n1))\n",
    "print(int(n2))\n",
    "print(complex(n2))"
   ]
  },
  {
   "cell_type": "code",
   "execution_count": 45,
   "metadata": {},
   "outputs": [
    {
     "name": "stdout",
     "output_type": "stream",
     "text": [
      "Len is of obaid is 5\n",
      "o\n",
      "b\n",
      "a\n",
      "i\n",
      "d\n",
      "Character is found\n"
     ]
    }
   ],
   "source": [
    "fname = \"obaid\"\n",
    "# print(fname[0])\n",
    "print(f\"\"\"Len is of {fname} is {len(fname)}\"\"\")\n",
    "\n",
    "for c in fname:\n",
    "    print(c)\n",
    "\n",
    "while (True):\n",
    "    c = input(\"Enter the chatcter you want to find in the name\")\n",
    "    # if(c in fname):\n",
    "    #     print(\"Character is found\")\n",
    "    # else:\n",
    "    #     print(\"Chracter is not found\")\n",
    "\n",
    "    if (c not in fname):\n",
    "        print(\"Chracter is not found\")\n",
    "    else:\n",
    "        print(\"Character is found\")\n",
    "    break"
   ]
  },
  {
   "cell_type": "code",
   "execution_count": 66,
   "metadata": {},
   "outputs": [
    {
     "name": "stdout",
     "output_type": "stream",
     "text": [
      "mu\n",
      "neer\n",
      "ue\n",
      "MUNEER\n",
      "obaid\n",
      "welcome obaid\n",
      "welcome umair\n",
      "['welcome', 'obaid']\n"
     ]
    }
   ],
   "source": [
    "lname = 'muneer'\n",
    "print(lname[:2])\n",
    "print(lname[2:])\n",
    "print(lname[1:5:2])\n",
    "print(lname.upper())\n",
    "print(\"OBAID\".lower())\n",
    "\n",
    "msg = \" welcome obaid \"\n",
    "print(msg.strip())  # remove space from both side\n",
    "print(msg.replace(\"obaid\", \"umair\").strip())\n",
    "print(msg.strip().split(\" \"))\n"
   ]
  },
  {
   "cell_type": "code",
   "execution_count": 71,
   "metadata": {},
   "outputs": [
    {
     "name": "stdout",
     "output_type": "stream",
     "text": [
      "welcome Obaid, Do you want to buy apple\n",
      "this is apple, price of 2kg will be 200rs\n"
     ]
    }
   ],
   "source": [
    "greetUser = \"welcome {}, Do you want to buy {}\"\n",
    "print(greetUser.format(\"Obaid\", \"apple\"))\n",
    "\n",
    "buy = \"this is {2}, price of {0}kg will be {1}rs\"\n",
    "print(buy.format(2,200,\"apple\" ))\n"
   ]
  },
  {
   "cell_type": "code",
   "execution_count": 81,
   "metadata": {},
   "outputs": [
    {
     "name": "stdout",
     "output_type": "stream",
     "text": [
      "['obaid', 'umair', 'muneer']\n",
      "3\n",
      "obaid\n",
      "muneer\n",
      "No students found\n"
     ]
    }
   ],
   "source": [
    "#list\n",
    "# List items can be of any data type and can contain different data types\n",
    "# There are four collection data types in the Python programming language:\n",
    "\n",
    "# List is a collection which is ordered and changeable. Allows duplicate members.\n",
    "# Tuple is a collection which is ordered and unchangeable. Allows duplicate members.\n",
    "# Set is a collection which is unordered, unchangeable*, and unindexed. No duplicate members.\n",
    "# Dictionary is a collection which is ordered** and changeable. No duplicate members.\n",
    "\n",
    "students=['obaid','umair','muneer']\n",
    "print(students) # ['obaid', 'umair', 'muneer']\n",
    "print(len(students)) # 3\n",
    "print(students[0]) # obaid\n",
    "print(students[-1]) # muneer\n",
    "\n",
    "student = \"World\"\n",
    "\n",
    "if student in students:\n",
    "    print('Std found')\n",
    "else:\n",
    "    print('No students found')"
   ]
  },
  {
   "cell_type": "code",
   "execution_count": 88,
   "metadata": {},
   "outputs": [
    {
     "name": "stdout",
     "output_type": "stream",
     "text": [
      "['World', 'umair', 'muneer']\n",
      "['World', 'Hello', 'by']\n"
     ]
    }
   ],
   "source": [
    "students = ['obaid', 'umair', 'muneer']\n",
    "students[0] = \"World\"\n",
    "print(students)\n",
    "\n",
    "students[1:3] = ['Hello','by']\n",
    "print(students)\n"
   ]
  },
  {
   "cell_type": "code",
   "execution_count": 104,
   "metadata": {},
   "outputs": [
    {
     "name": "stdout",
     "output_type": "stream",
     "text": [
      "['apple', 'blackcurrant', 'watermelon', 'cherry']\n",
      "['a', 'p', 'p', 'l', 'e']\n",
      "['apple']\n",
      "['apple', 'Kiwi']\n",
      "['apple', 'Kiwi', 'cheery']\n"
     ]
    }
   ],
   "source": [
    "fruits = [\"apple\", \"banana\", \"cherry\"]\n",
    "fruits[1:2] = [\"blackcurrant\", \"watermelon\"]\n",
    "print(fruits)  # ['apple', 'blackcurrant', 'watermelon', 'cherry']\n",
    "\n",
    "fruits[:] = \"apple\"  # ['a', 'p', 'p', 'l', 'e']\n",
    "print(fruits)\n",
    "\n",
    "fruits[:] = [\"apple\"]  # ['apple']\n",
    "print(fruits)\n",
    "\n",
    "fruits.insert(2, \"Kiwi\")\n",
    "print(fruits)  # ['apple', 'Kiwi']\n",
    "\n",
    "fruits.append(\"cheery\")\n",
    "print(fruits)  # ['apple', 'Kiwi', 'cheery']\n"
   ]
  },
  {
   "cell_type": "code",
   "execution_count": 109,
   "metadata": {},
   "outputs": [
    {
     "name": "stdout",
     "output_type": "stream",
     "text": [
      "['apple', 'banana', 'cherry', 'potato', 'onion']\n"
     ]
    }
   ],
   "source": [
    "fruits = [\"apple\", \"banana\", \"cherry\"]\n",
    "vegetables = ['potato', 'onion']\n",
    "fruits.extend(vegetables)\n",
    "print(fruits)"
   ]
  },
  {
   "cell_type": "code",
   "execution_count": 9,
   "metadata": {},
   "outputs": [
    {
     "name": "stdout",
     "output_type": "stream",
     "text": [
      "['banana', 'cherry']\n",
      "['banana']\n",
      "['potato', 'onion']\n",
      "[]\n"
     ]
    }
   ],
   "source": [
    "fruits = [\"apple\", \"banana\", \"cherry\"]\n",
    "\n",
    "fruits.remove('apple')\n",
    "print(fruits)  # ['banana', 'cherry']\n",
    "\n",
    "fruits.pop(-1)\n",
    "print(fruits)  # ['banana']\n",
    "\n",
    "\n",
    "vegetables = ['potato', 'onion']\n",
    "print(vegetables)\n",
    "del vegetables\n",
    "# print(vegetables) # error\n",
    "\n",
    "fruits = [\"apple\", \"banana\", \"cherry\"]\n",
    "fruits.clear() # []\n",
    "print(fruits)  \n"
   ]
  }
 ],
 "metadata": {
  "kernelspec": {
   "display_name": "Python 3",
   "language": "python",
   "name": "python3"
  },
  "language_info": {
   "codemirror_mode": {
    "name": "ipython",
    "version": 3
   },
   "file_extension": ".py",
   "mimetype": "text/x-python",
   "name": "python",
   "nbconvert_exporter": "python",
   "pygments_lexer": "ipython3",
   "version": "3.11.3"
  },
  "orig_nbformat": 4,
  "vscode": {
   "interpreter": {
    "hash": "e24be50fc5d34fa7feb3809ece269af1ed5229ce0bcfe582eb2a21849eda9341"
   }
  }
 },
 "nbformat": 4,
 "nbformat_minor": 2
}
