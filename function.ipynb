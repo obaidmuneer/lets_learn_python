{
 "cells": [
  {
   "attachments": {},
   "cell_type": "markdown",
   "metadata": {},
   "source": [
    "Function"
   ]
  },
  {
   "cell_type": "code",
   "execution_count": 3,
   "metadata": {},
   "outputs": [
    {
     "name": "stdout",
     "output_type": "stream",
     "text": [
      "Welcome to School\n"
     ]
    }
   ],
   "source": [
    "def greet():\n",
    "    print('Welcome to School')\n",
    "greet()"
   ]
  },
  {
   "attachments": {},
   "cell_type": "markdown",
   "metadata": {},
   "source": [
    "argument and parameters"
   ]
  },
  {
   "cell_type": "code",
   "execution_count": 12,
   "metadata": {},
   "outputs": [
    {
     "name": "stdout",
     "output_type": "stream",
     "text": [
      "Welcome Obaid\n"
     ]
    }
   ],
   "source": [
    "def greet_user(name): # param\n",
    "    print(f\"\"\"Welcome {name}\"\"\")\n",
    "\n",
    "greet_user('Obaid') #arug"
   ]
  },
  {
   "attachments": {},
   "cell_type": "markdown",
   "metadata": {},
   "source": [
    "Arbitrary Arguments, *args"
   ]
  },
  {
   "cell_type": "code",
   "execution_count": 6,
   "metadata": {},
   "outputs": [
    {
     "ename": "TypeError",
     "evalue": "join_name() missing 1 required positional argument: 'lname'",
     "output_type": "error",
     "traceback": [
      "\u001b[1;31m---------------------------------------------------------------------------\u001b[0m",
      "\u001b[1;31mTypeError\u001b[0m                                 Traceback (most recent call last)",
      "Cell \u001b[1;32mIn[6], line 4\u001b[0m\n\u001b[0;32m      1\u001b[0m \u001b[39mdef\u001b[39;00m \u001b[39mjoin_name\u001b[39m(fname,lname):\n\u001b[0;32m      2\u001b[0m     \u001b[39mprint\u001b[39m(fname\u001b[39m+\u001b[39mlname)\n\u001b[1;32m----> 4\u001b[0m join_name(\u001b[39m'\u001b[39;49m\u001b[39mobaid\u001b[39;49m\u001b[39m'\u001b[39;49m)\n",
      "\u001b[1;31mTypeError\u001b[0m: join_name() missing 1 required positional argument: 'lname'"
     ]
    }
   ],
   "source": [
    "def join_name(fname,lname):\n",
    "    print(fname+lname)\n",
    "\n",
    "join_name('obaid')"
   ]
  },
  {
   "cell_type": "code",
   "execution_count": 15,
   "metadata": {},
   "outputs": [
    {
     "name": "stdout",
     "output_type": "stream",
     "text": [
      "Youngest child is umair\n",
      "Youngest child is obaid\n"
     ]
    }
   ],
   "source": [
    "def youngest_child(*args):\n",
    "    print((f\"\"\"Youngest child is {args[len(args)-1]}\"\"\"))\n",
    "\n",
    "\n",
    "youngest_child('obaid', 'umair')\n",
    "youngest_child('obaid')\n"
   ]
  },
  {
   "attachments": {},
   "cell_type": "markdown",
   "metadata": {},
   "source": [
    "Keyword Arguments"
   ]
  },
  {
   "cell_type": "code",
   "execution_count": 16,
   "metadata": {},
   "outputs": [
    {
     "name": "stdout",
     "output_type": "stream",
     "text": [
      "obaid Umair\n"
     ]
    }
   ],
   "source": [
    "def children_name(child1, child2):\n",
    "    print(child1, child2)\n",
    "\n",
    "\n",
    "children_name(child2='Umair', child1='obaid')\n"
   ]
  },
  {
   "attachments": {},
   "cell_type": "markdown",
   "metadata": {},
   "source": [
    "Arbitrary Keyword Arguments, **kwargs"
   ]
  },
  {
   "cell_type": "code",
   "execution_count": 18,
   "metadata": {},
   "outputs": [
    {
     "name": "stdout",
     "output_type": "stream",
     "text": [
      "child2 Umair\n",
      "child1 obaid\n"
     ]
    }
   ],
   "source": [
    "def children_name(**childs):\n",
    "    for k,v in childs.items():\n",
    "        print(k,v)\n",
    "\n",
    "\n",
    "children_name(child2='Umair', child1='obaid')\n"
   ]
  },
  {
   "attachments": {},
   "cell_type": "markdown",
   "metadata": {},
   "source": [
    "Default/Optional Parameter Value"
   ]
  },
  {
   "cell_type": "code",
   "execution_count": 20,
   "metadata": {},
   "outputs": [
    {
     "name": "stdout",
     "output_type": "stream",
     "text": [
      "I am from Mars\n",
      "I am from Jupiter\n"
     ]
    }
   ],
   "source": [
    "def my_country(planet='Mars'):\n",
    "    print(\"I am from \" + planet)\n",
    "\n",
    "\n",
    "my_country()\n",
    "my_country('Jupiter')\n"
   ]
  },
  {
   "cell_type": "code",
   "execution_count": 22,
   "metadata": {},
   "outputs": [
    {
     "name": "stdout",
     "output_type": "stream",
     "text": [
      "obaid muneer\n"
     ]
    }
   ],
   "source": [
    "def join_name(fname, lname):\n",
    "    return fname + \" \" + lname\n",
    "\n",
    "\n",
    "fullname = join_name('obaid', 'muneer')\n",
    "print(fullname)\n"
   ]
  },
  {
   "cell_type": "code",
   "execution_count": 23,
   "metadata": {},
   "outputs": [],
   "source": [
    "def pass_func():\n",
    "    pass"
   ]
  }
 ],
 "metadata": {
  "kernelspec": {
   "display_name": "Python 3",
   "language": "python",
   "name": "python3"
  },
  "language_info": {
   "codemirror_mode": {
    "name": "ipython",
    "version": 3
   },
   "file_extension": ".py",
   "mimetype": "text/x-python",
   "name": "python",
   "nbconvert_exporter": "python",
   "pygments_lexer": "ipython3",
   "version": "3.11.3"
  },
  "orig_nbformat": 4,
  "vscode": {
   "interpreter": {
    "hash": "e24be50fc5d34fa7feb3809ece269af1ed5229ce0bcfe582eb2a21849eda9341"
   }
  }
 },
 "nbformat": 4,
 "nbformat_minor": 2
}
